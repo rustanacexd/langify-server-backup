{
 "cells": [
  {
   "cell_type": "code",
   "execution_count": null,
   "metadata": {
    "scrolled": true
   },
   "outputs": [],
   "source": [
    "from white_estate.models import create_sentences\n",
    "\n",
    "create_sentences(OriginalWork.objects.all())"
   ]
  },
  {
   "cell_type": "code",
   "execution_count": 1,
   "metadata": {
    "scrolled": true
   },
   "outputs": [
    {
     "data": {
      "text/plain": [
       "(149848,\n",
       " {'white_estate.Sentence_segments': 76709, 'white_estate.Sentence': 73139})"
      ]
     },
     "execution_count": 1,
     "metadata": {},
     "output_type": "execute_result"
    }
   ],
   "source": [
    "Sentence.objects.all().delete()"
   ]
  },
  {
   "cell_type": "code",
   "execution_count": 4,
   "metadata": {},
   "outputs": [
    {
     "name": "stdout",
     "output_type": "stream",
     "text": [
      "MM\n",
      "CCh\n",
      "CS\n",
      "SR\n",
      "SC\n",
      "DA\n",
      "GC\n",
      "AH\n",
      "PP\n",
      "LYL\n"
     ]
    }
   ],
   "source": [
    "for w in OriginalWork.objects.all():\n",
    "    print(w.abbreviation)"
   ]
  },
  {
   "cell_type": "code",
   "execution_count": 19,
   "metadata": {
    "scrolled": false
   },
   "outputs": [],
   "source": [
    "mm = OriginalWork.objects.get(abbreviation='MM').segments.all().values_list('content', flat=True)\n",
    "other = OriginalWork.objects.get(abbreviation='CS').segments.all().values_list('content', flat=True)\n",
    "\n",
    "all_texts = 0\n",
    "equal = 0\n",
    "characters = 0\n",
    "for text in mm:\n",
    "    if text in other:\n",
    "        characters += len(text)\n",
    "        equal += 1\n",
    "    all_texts += 1"
   ]
  },
  {
   "cell_type": "code",
   "execution_count": 20,
   "metadata": {},
   "outputs": [
    {
     "name": "stdout",
     "output_type": "stream",
     "text": [
      "19 / 2187\n",
      "0.8687700045724738\n",
      "655 1.31\n",
      "500.0\n"
     ]
    }
   ],
   "source": [
    "print(equal, '/', all_texts)\n",
    "print(equal/all_texts * 100)\n",
    "print(characters, characters / 500)\n",
    "print(1000000 / 2000)"
   ]
  },
  {
   "cell_type": "code",
   "execution_count": 24,
   "metadata": {
    "scrolled": false
   },
   "outputs": [
    {
     "name": "stdout",
     "output_type": "stream",
     "text": [
      "21072 42.144\n"
     ]
    }
   ],
   "source": [
    "sents = Sentence.objects.filter(count__gt=1, segments__work__abbreviation='MM')\n",
    "count = 0\n",
    "for s in sents:\n",
    "    count += len(s.content)\n",
    "print(count, count / 500)"
   ]
  },
  {
   "cell_type": "code",
   "execution_count": 3,
   "metadata": {},
   "outputs": [
    {
     "name": "stdout",
     "output_type": "stream",
     "text": [
      "976\n",
      "Let those men and women who are satisfied with their dwarfed, crippled condition in divine things be suddenly transported to heaven and for an instant witness the high, the holy state of perfection that ever abides there,—every soul filled with love; every countenance beaming with joy; enchanting music in melodious strains rising in honor of God and the Lamb; and ceaseless streams of light flowing upon the saints from the face of Him who sitteth upon the throne, and from the Lamb; and let them realize that there is higher and greater joy yet to experience, for the more they receive of the enjoyment of God, the more is their capacity increased to rise higher in eternal enjoyment, and thus continue to receive new and greater supplies from the ceaseless sources of glory and bliss inexpressible,—could such persons, I ask, mingle with the heavenly throng, participate in their songs, and endure the pure, exalted, transporting glory that emanates from God and the Lamb?\n"
     ]
    }
   ],
   "source": [
    "# Find longest sentence\n",
    "max_length = 0\n",
    "text = None\n",
    "for s in Sentence.objects.all():\n",
    "    length = len(s.content)\n",
    "    if length > max_length:\n",
    "        max_length = length\n",
    "        text = s.content\n",
    "print(max_length)\n",
    "print(text)"
   ]
  },
  {
   "cell_type": "code",
   "execution_count": 6,
   "metadata": {
    "scrolled": false
   },
   "outputs": [
    {
     "data": {
      "text/plain": [
       "\"“My heart rejoiceth in the Lord;\\nMine horn is exalted in the Lord;\\nMy mouth is enlarged over mine enemies;\\nBecause I rejoice in Thy salvation.\\nThere is none holy as the Lord:\\nFor there is none beside Thee:\\nNeither is there any rock like our God.\\nTalk no more so exceeding proudly;\\nLet not arrogancy come out of your mouth;\\nFor Jehovah is a God of knowledge,\\nAnd by Him actions are weighed....\\nThe Lord killeth, and maketh alive:\\nHe bringeth down to the grave, and bringeth up.\\nThe Lord maketh poor, and maketh rich:\\nHe bringeth low, and lifteth up.\\nHe raiseth up the poor out of the dust,\\nAnd lifteth up the beggar from the dunghill,\\nTo set them among princes,\\nAnd to make them inherit the throne of glory:\\nFor the pillars of the earth are the Lord's,\\nAnd He hath set the world upon them.\\nHe will keep the feet of His saints,\\nAnd the wicked shall be silent in darkness;\\nFor by strength shall no man prevail.\\nThe adversaries of the Lord shall be broken to pieces; Out of heaven shall He thunder upon them:\\nThe Lord shall judge the ends of the earth;\\nAnd He shall give strength unto His king,\\nAnd exalt the horn of His anointed.”\""
      ]
     },
     "execution_count": 6,
     "metadata": {},
     "output_type": "execute_result"
    }
   ],
   "source": [
    "text"
   ]
  },
  {
   "cell_type": "code",
   "execution_count": 11,
   "metadata": {},
   "outputs": [
    {
     "data": {
      "text/plain": [
       "['“My heart rejoiceth in the Lord;\\nMine horn is exalted in the Lord;\\nMy mouth is enlarged over mine enemies;\\nBecause I rejoice in Thy salvation.',\n",
       " 'There is none holy as the Lord:',\n",
       " 'For there is none beside Thee:',\n",
       " 'Neither is there any rock like our God.',\n",
       " 'Talk no more so exceeding proudly;\\nLet not arrogancy come out of your mouth;\\nFor Jehovah is a God of knowledge,\\nAnd by Him actions are weighed....',\n",
       " 'The Lord killeth, and maketh alive:',\n",
       " 'He bringeth down to the grave, and bringeth up.',\n",
       " 'The Lord maketh poor, and maketh rich:',\n",
       " 'He bringeth low, and lifteth up.',\n",
       " 'He raiseth up the poor out of the dust,\\nAnd lifteth up the beggar from the dunghill,\\nTo set them among princes,\\nAnd to make them inherit the throne of glory:',\n",
       " \"For the pillars of the earth are the Lord's,\\nAnd He hath set the world upon them.\",\n",
       " 'He will keep the feet of His saints,\\nAnd the wicked shall be silent in darkness;\\nFor by strength shall no man prevail.',\n",
       " 'The adversaries of the Lord shall be broken to pieces; Out of heaven shall He thunder upon them:',\n",
       " 'The Lord shall judge the ends of the earth;\\nAnd He shall give strength unto His king,\\nAnd exalt the horn of His anointed.”']"
      ]
     },
     "execution_count": 11,
     "metadata": {},
     "output_type": "execute_result"
    }
   ],
   "source": [
    "import re\n",
    "\n",
    "re.split(\n",
    "    r'(?<=[^A-Z].[.:!?])[\"\\'”“’‘«»›‹)\\]]*[\\s$]+[\"\\'”“’‘„‚«»›‹¡¿(\\]]*(?=[A-Z])',\n",
    "    text,\n",
    ")"
   ]
  }
 ],
 "metadata": {
  "kernelspec": {
   "display_name": "Django Shell-Plus",
   "language": "python",
   "name": "django_extensions"
  },
  "language_info": {
   "codemirror_mode": {
    "name": "ipython",
    "version": 3
   },
   "file_extension": ".py",
   "mimetype": "text/x-python",
   "name": "python",
   "nbconvert_exporter": "python",
   "pygments_lexer": "ipython3",
   "version": "3.6.5"
  }
 },
 "nbformat": 4,
 "nbformat_minor": 2
}
