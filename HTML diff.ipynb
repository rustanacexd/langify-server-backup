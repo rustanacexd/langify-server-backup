{
 "cells": [
  {
   "cell_type": "code",
   "execution_count": 37,
   "metadata": {
    "ExecuteTime": {
     "end_time": "2018-12-24T10:18:47.514189Z",
     "start_time": "2018-12-24T10:18:47.511257Z"
    }
   },
   "outputs": [],
   "source": [
    "from xmldiff import main, formatting\n",
    "import lxml.etree"
   ]
  },
  {
   "cell_type": "code",
   "execution_count": 16,
   "metadata": {
    "ExecuteTime": {
     "end_time": "2018-12-24T10:06:22.783876Z",
     "start_time": "2018-12-24T10:06:22.776945Z"
    }
   },
   "outputs": [
    {
     "data": {
      "text/plain": [
       "'<body xmlns:diff=\"http://namespaces.shoobx.com/diff\">\\n  <p><diff:delete>Old</diff:delete><diff:insert>New</diff:insert> Content</p>\\n</body>\\n'"
      ]
     },
     "execution_count": 16,
     "metadata": {},
     "output_type": "execute_result"
    }
   ],
   "source": [
    "formatter=formatting.XMLFormatter()\n",
    "left = '<body><p>Old Content</p></body>'\n",
    "right = '<body><p>New Content</p></body>'\n",
    "main.diff_texts(left, right, formatter=formatter)"
   ]
  },
  {
   "cell_type": "code",
   "execution_count": 38,
   "metadata": {
    "ExecuteTime": {
     "end_time": "2018-12-24T10:20:09.124306Z",
     "start_time": "2018-12-24T10:20:09.119409Z"
    }
   },
   "outputs": [],
   "source": [
    "XSLT = u'''<?xml version=\"1.0\"?>\n",
    "<xsl:stylesheet version=\"1.0\"\n",
    "   xmlns:diff=\"http://namespaces.shoobx.com/diff\"\n",
    "   xmlns:xsl=\"http://www.w3.org/1999/XSL/Transform\">\n",
    "\n",
    "   <xsl:template match=\"@diff:insert-formatting\">\n",
    "       <xsl:attribute name=\"class\">\n",
    "         <xsl:value-of select=\"'insert-formatting'\"/>\n",
    "       </xsl:attribute>\n",
    "   </xsl:template>\n",
    "\n",
    "   <xsl:template match=\"diff:delete\">\n",
    "       <del><xsl:apply-templates /></del>\n",
    "   </xsl:template>\n",
    "\n",
    "   <xsl:template match=\"diff:insert\">\n",
    "       <ins><xsl:apply-templates /></ins>\n",
    "   </xsl:template>\n",
    "\n",
    "   <xsl:template match=\"@* | node()\">\n",
    "     <xsl:copy>\n",
    "       <xsl:apply-templates select=\"@* | node()\"/>\n",
    "     </xsl:copy>\n",
    "   </xsl:template>\n",
    "</xsl:stylesheet>'''\n",
    "XSLT_TEMPLATE = lxml.etree.fromstring(XSLT)\n",
    "\n",
    "class HTMLFormatter(formatting.XMLFormatter):\n",
    "    def render(self, result):\n",
    "        transform = lxml.etree.XSLT(XSLT_TEMPLATE)\n",
    "        result = transform(result)\n",
    "        return super().render(result)"
   ]
  },
  {
   "cell_type": "code",
   "execution_count": 43,
   "metadata": {
    "ExecuteTime": {
     "end_time": "2018-12-24T10:30:34.736401Z",
     "start_time": "2018-12-24T10:30:34.717521Z"
    }
   },
   "outputs": [
    {
     "name": "stdout",
     "output_type": "stream",
     "text": [
      "<p xmlns:diff=\"http://namespaces.shoobx.com/diff\"><span class=\"non-egw-intro\" diff:delete-formatting=\"\"><span class=\"insert-formatting\">Alle Siebenten-Tags-Adventisten warten sehnsüchtig auf die Zeit, in der Jesus kommen wird, um sie in d<del>ie</del><ins>as</ins> himmlische Heim<del>at</del> zu holen, <del>in die</del><ins>das</ins> er <del>g</del><ins>b</ins>eg<del>angen ist, um es</del><ins>onnen hat,</ins> für sie vorzubereiten.</span></span><span class=\"non-egw-intro\">In diesem besseren Land wird es keine Sünde mehr geben, keine Enttäuschungen, keinen Hunger, keine Armut, keine Krankheit und keinen Tod.</span><span class=\"non-egw-intro\" diff:delete-formatting=\"\"><span class=\"insert-formatting\">Als der Apostel Johannes über die <del>Privilegien</del><ins>Vorrechte</ins> nachdachte, die die Gläubigen erwarten, rief er aus:</span></span> \"<span class=\"non-egw-intro\">Seht, welch eine Liebe hat uns der Vater erwiesen, dass wir Kinder Gottes heißen sollen....</span> Wir<span class=\"non-egw-intro\"> sind jetzt Kinder Gottes, und noch ist nicht offenbar geworden, was wir sein werden; wir wissen aber, dass wir Ihm gleichgestaltet sein werden, wenn er erscheint.\"</span> 1. <span class=\"non-egw-intro\" diff:delete-formatting=\"\"><span class=\"egwlink egwlink_bible\" data-link=\"1965.62387\" title=\"1 john 3:1\" diff:delete-formatting=\"\"><span class=\"insert-formatting\"><span class=\"insert-formatting\" data-link=\"1965.62387\" title=\"1 john 3:1\">Johannes 3<del>.1, 2</del></span></span></span><del>.</del></span><ins>,1. 2</ins><ins>.</ins></p>\n",
      "\n"
     ]
    }
   ],
   "source": [
    "formatter = HTMLFormatter(\n",
    "    text_tags=('p', 'h1', 'h2', 'h3', 'h4', 'h5', 'h6', 'li'),\n",
    "    formatting_tags=('b', 'u', 'i', 'strike', 'em', 'super', 'sup', 'sub', 'link', 'a', 'span'),\n",
    "    normalize=formatting.WS_BOTH)\n",
    "\n",
    "history = TranslatedSegment.objects.get(work__abbreviation='CCh', position=10, work__language='de').history.all()\n",
    "p = '<p>{}</p>'\n",
    "result = main.diff_texts(\n",
    "    p.format(history[3].content),\n",
    "    p.format(history[2].content),\n",
    "    formatter=formatter,\n",
    "    #diff_options={'fast_match': True},\n",
    ")\n",
    "#main.diff_texts(left, right, diff_options={'fast_match': True})\n",
    "print(result)"
   ]
  },
  {
   "cell_type": "markdown",
   "metadata": {},
   "source": [
    "<p xmlns:diff=\"http://namespaces.shoobx.com/diff\"><span class=\"non-egw-intro\" diff:delete-formatting=\"\"><span class=\"insert-formatting\">Alle Siebenten-Tags-Adventisten warten sehnsüchtig auf die Zeit, in der Jesus kommen wird, um sie in d<del>ie</del><ins>as</ins> himmlische Heim<del>at</del> zu holen, <del>in die</del><ins>das</ins> er <del>g</del><ins>b</ins>eg<del>angen ist, um es</del><ins>onnen hat,</ins> für sie vorzubereiten.</span></span> <span class=\"non-egw-intro\">In diesem besseren Land wird es keine Sünde mehr geben, keine Enttäuschungen, keinen Hunger, keine Armut, keine Krankheit und keinen Tod.</span> <span class=\"non-egw-intro\" diff:delete-formatting=\"\"><span class=\"insert-formatting\">Als der Apostel Johannes über die <del>Privilegien</del><ins>Vorrechte</ins> nachdachte, die die Gläubigen erwarten, rief er aus:</span></span> \"<span class=\"non-egw-intro\">Seht, welch eine Liebe hat uns der Vater erwiesen, dass wir Kinder Gottes heißen sollen....</span> Wir<span class=\"non-egw-intro\"> sind jetzt Kinder Gottes, und noch ist nicht offenbar geworden, was wir sein werden; wir wissen aber, dass wir Ihm gleichgestaltet sein werden, wenn er erscheint.\"</span> 1. <span class=\"non-egw-intro\" diff:delete-formatting=\"\"><span class=\"egwlink egwlink_bible\" data-link=\"1965.62387\" title=\"1 john 3:1\" diff:delete-formatting=\"\"><span class=\"insert-formatting\"><span class=\"insert-formatting\" data-link=\"1965.62387\" title=\"1 john 3:1\">Johannes 3<del>.1, 2</del></span></span></span><del>.</del></span><ins>,1. 2</ins><ins>.</ins></p>"
   ]
  },
  {
   "cell_type": "code",
   "execution_count": 28,
   "metadata": {
    "ExecuteTime": {
     "end_time": "2018-12-24T10:13:21.668882Z",
     "start_time": "2018-12-24T10:13:21.661431Z"
    }
   },
   "outputs": [
    {
     "name": "stdout",
     "output_type": "stream",
     "text": [
      "980\n",
      "ubereiten.</span> <span \n",
      "<span class=\"non-egw-intro\">Alle Siebenten-Tags-Adventisten warten sehnsüchtig auf die Zeit, wenn Jesus kommen wird, um sie in das himmlische Heim zu holen, das er begonnen hat, für sie vorzubereiten.</span> <span class=\"non-egw-intro\">In diesem besseren Land wird es keine Sünde mehr geben, keine Enttäuschungen, keinen Hunger, keine Armut, keine Krankheit und keinen Tod.</span> <span class=\"non-egw-intro\">Als der Apostel Johannes über die Vorrechte nachdachte, die die Gläubigen erwarten, rief er aus:</span> „<span class=\"non-egw-intro\">Seht, welch eine Liebe hat uns der Vater erwiesen, dass wir Kinder Gottes heißen sollen…</span> Wir<span class=\"non-egw-intro\"> sind jetzt Kinder Gottes, und noch ist nicht offenbar geworden, was wir sein werden; wir wissen aber, dass wir Ihm gleichgestaltet sein werden, wenn er erscheint.“</span> 1. <span class=\"non-egw-intro\"><span class=\"egwlink egwlink_bible\" data-link=\"1965.62387\" title=\"1 john 3:1\">Johannes 3,1. 2</span>.</span>\n"
     ]
    }
   ],
   "source": [
    "print(len(history[0].content))\n",
    "print(history[0].content[190:214])\n",
    "print(history[0].content)"
   ]
  },
  {
   "cell_type": "code",
   "execution_count": 47,
   "metadata": {
    "ExecuteTime": {
     "end_time": "2018-12-24T10:37:26.445529Z",
     "start_time": "2018-12-24T10:37:26.439424Z"
    }
   },
   "outputs": [
    {
     "data": {
      "text/plain": [
       "<QuerySet ['h1', 'h3', 'p', 'span', 'em', 'h4', 'h5', 'strong', 'br', 'sup', 'a', 'h2']>"
      ]
     },
     "execution_count": 47,
     "metadata": {},
     "output_type": "execute_result"
    }
   ],
   "source": [
    "Tag.objects.values_list('name', flat=True)"
   ]
  }
 ],
 "metadata": {
  "kernelspec": {
   "display_name": "Django Shell-Plus",
   "language": "python",
   "name": "django_extensions"
  },
  "language_info": {
   "codemirror_mode": {
    "name": "ipython",
    "version": 3
   },
   "file_extension": ".py",
   "mimetype": "text/x-python",
   "name": "python",
   "nbconvert_exporter": "python",
   "pygments_lexer": "ipython3",
   "version": "3.6.8"
  },
  "toc": {
   "base_numbering": 1,
   "nav_menu": {},
   "number_sections": true,
   "sideBar": true,
   "skip_h1_title": false,
   "title_cell": "Table of Contents",
   "title_sidebar": "Contents",
   "toc_cell": false,
   "toc_position": {},
   "toc_section_display": true,
   "toc_window_display": false
  }
 },
 "nbformat": 4,
 "nbformat_minor": 2
}
