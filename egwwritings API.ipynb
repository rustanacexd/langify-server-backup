{
 "cells": [
  {
   "cell_type": "markdown",
   "metadata": {},
   "source": [
    "# a.egwwritings.org API"
   ]
  },
  {
   "cell_type": "code",
   "execution_count": 2,
   "metadata": {
    "scrolled": false
   },
   "outputs": [],
   "source": [
    "# Connect to the egwwritings.org API\n",
    "from panta.conversion.ellen_g_white_estate import Import\n",
    "i = Import()"
   ]
  },
  {
   "cell_type": "markdown",
   "metadata": {},
   "source": [
    "### Add a book"
   ]
  },
  {
   "cell_type": "code",
   "execution_count": null,
   "metadata": {},
   "outputs": [],
   "source": [
    "i.create('SC')"
   ]
  },
  {
   "cell_type": "markdown",
   "metadata": {},
   "source": [
    "### Add translations to Steps to Christ (SC)"
   ]
  },
  {
   "cell_type": "code",
   "execution_count": null,
   "metadata": {
    "scrolled": true
   },
   "outputs": [],
   "source": [
    "# Delete German SC\n",
    "bw = TranslatedWork.objects.get(abbreviation='BW')\n",
    "SegmentDraft.objects.filter(work=bw).delete()\n",
    "TranslatedSegment.objects.filter(work=bw).delete()\n",
    "bw.delete()"
   ]
  },
  {
   "cell_type": "code",
   "execution_count": null,
   "metadata": {
    "scrolled": true
   },
   "outputs": [],
   "source": [
    "# Delete Turkish SC\n",
    "hh = TranslatedWork.objects.get(abbreviation='HH')\n",
    "SegmentDraft.objects.filter(work=hh).delete()\n",
    "TranslatedSegment.objects.filter(work=hh).delete()\n",
    "hh.delete()"
   ]
  },
  {
   "cell_type": "code",
   "execution_count": null,
   "metadata": {},
   "outputs": [],
   "source": [
    "# Add German SC\n",
    "i.add_translation('BW', 'de', 'SC')"
   ]
  },
  {
   "cell_type": "code",
   "execution_count": 3,
   "metadata": {
    "scrolled": false
   },
   "outputs": [
    {
     "name": "stdout",
     "output_type": "stream",
     "text": [
      "\n",
      "Warning! This text is not included:\n",
      "{'content': 'Hakikat yolu ve hayatimiz',\n",
      " 'element_subtype': '',\n",
      " 'element_type': 'h1',\n",
      " 'id_next': '11391.7',\n",
      " 'id_prev': None,\n",
      " 'para_id': '11391.2',\n",
      " 'puborder': 1,\n",
      " 'refcode_1': 'HH',\n",
      " 'refcode_2': 'i',\n",
      " 'refcode_3': '',\n",
      " 'refcode_4': '',\n",
      " 'refcode_long': 'Hakikat yolu ve hayatimiz, p. i (Ellen Gould White)',\n",
      " 'refcode_short': 'HH i',\n",
      " 'translations': []}\n",
      "\n",
      "Warning! This text is not included:\n",
      "{'content': 'Önsöz',\n",
      " 'element_subtype': '',\n",
      " 'element_type': 'h3',\n",
      " 'id_next': '11391.8',\n",
      " 'id_prev': '11391.2',\n",
      " 'para_id': '11391.7',\n",
      " 'puborder': 2,\n",
      " 'refcode_1': 'HH',\n",
      " 'refcode_2': 'ii',\n",
      " 'refcode_3': '',\n",
      " 'refcode_4': '',\n",
      " 'refcode_long': 'Hakikat yolu ve hayatimiz, p. ii (Ellen Gould White)',\n",
      " 'refcode_short': 'HH ii',\n",
      " 'translations': []}\n",
      "\n",
      "Warning! This text is not included:\n",
      "{'content': '<span class=\"non-egw-preface\">Çağımızın bilim ve teknik alanında '\n",
      "            'kaydettiği olağanüstü gelişmeler, maddi gereksinimlerimizin '\n",
      "            'karşılanmasını bir dereceye kadar kolaylaştırmıştır diyebiliriz. '\n",
      "            'Fakat maddi gereksinimlerimizin yanı sıra bir de ruhumuzun '\n",
      "            'gereksinimleri vardır. Dileğimiz, çağımızın kaydettiği '\n",
      "            'ilerlemeler yanında bunların da gelişmesi ve insan ruhundaki '\n",
      "            'boşluğun daha asil duygularla dolabilmesidir.</span>',\n",
      " 'element_subtype': 'standard-indented',\n",
      " 'element_type': 'p',\n",
      " 'id_next': '11391.9',\n",
      " 'id_prev': '11391.7',\n",
      " 'para_id': '11391.8',\n",
      " 'puborder': 3,\n",
      " 'refcode_1': 'HH',\n",
      " 'refcode_2': 'ii',\n",
      " 'refcode_3': '1',\n",
      " 'refcode_4': '',\n",
      " 'refcode_long': 'Hakikat yolu ve hayatimiz, p. ii.1 (Ellen Gould White)',\n",
      " 'refcode_short': 'HH ii.1',\n",
      " 'translations': []}\n",
      "\n",
      "Warning! This text is not included:\n",
      "{'content': '<span class=\"non-egw-preface\">Bu yapıt, ruhsal yaşantımızın bu '\n",
      "            'gereksinimini karşılamaya yardımcı olmak amacıyla hazırlanmıştır. '\n",
      "            'İngilizce olarak yazılmış ve daha sonra yirmiden fazla dile '\n",
      "            'çevrilmiş olan kitabın, ruhsal yaşantınızda daha geniş ufuklar '\n",
      "            'açmasını, manevi varlığınızın daha yüksek bir düzeye erişmesine '\n",
      "            'yardımcı olmasını dileriz.</span>',\n",
      " 'element_subtype': 'standard-indented',\n",
      " 'element_type': 'p',\n",
      " 'id_next': '11391.13',\n",
      " 'id_prev': '11391.8',\n",
      " 'para_id': '11391.9',\n",
      " 'puborder': 4,\n",
      " 'refcode_1': 'HH',\n",
      " 'refcode_2': 'ii',\n",
      " 'refcode_3': '2',\n",
      " 'refcode_4': '',\n",
      " 'refcode_long': 'Hakikat yolu ve hayatimiz, p. ii.2 (Ellen Gould White)',\n",
      " 'refcode_short': 'HH ii.2',\n",
      " 'translations': []}\n",
      "Imported \"Hakikat yolu ve hayatimiz\" with 285 segments\n"
     ]
    }
   ],
   "source": [
    "# Add Turkish SC\n",
    "i.add_translation('HH', 'tr', 'SC')"
   ]
  }
 ],
 "metadata": {
  "kernelspec": {
   "display_name": "Django Shell-Plus",
   "language": "python",
   "name": "django_extensions"
  },
  "language_info": {
   "codemirror_mode": {
    "name": "ipython",
    "version": 3
   },
   "file_extension": ".py",
   "mimetype": "text/x-python",
   "name": "python",
   "nbconvert_exporter": "python",
   "pygments_lexer": "ipython3",
   "version": "3.6.5"
  },
  "toc": {
   "base_numbering": 1,
   "nav_menu": {},
   "number_sections": false,
   "sideBar": true,
   "skip_h1_title": false,
   "title_cell": "Table of Contents",
   "title_sidebar": "Contents",
   "toc_cell": false,
   "toc_position": {},
   "toc_section_display": true,
   "toc_window_display": false
  }
 },
 "nbformat": 4,
 "nbformat_minor": 2
}
