{
 "cells": [
  {
   "cell_type": "markdown",
   "metadata": {},
   "source": [
    "# `Subquery` vs. `prefetch_related`"
   ]
  },
  {
   "cell_type": "code",
   "execution_count": 13,
   "metadata": {},
   "outputs": [],
   "source": [
    "mm = TranslatedWork.objects.get(abbreviation='MM')\n",
    "contents = mm.table_of_contents\n",
    "# Get the chapter before the last one which has many edits\n",
    "qs = mm.segments.filter(position__gte=contents[-2]['position'], position__lt=contents[-1]['position'])\n",
    "#from panta.api.views import TranslatedSegmentViewSet\n",
    "#view = TranslatedSegmentViewSet()\n",
    "#view.request = MagicMock()\n",
    "#qs = view.get_queryset()\n",
    "\n"
   ]
  },
  {
   "cell_type": "code",
   "execution_count": 14,
   "metadata": {},
   "outputs": [
    {
     "name": "stdout",
     "output_type": "stream",
     "text": [
      "4.55 ms ± 73.9 µs per loop (mean ± std. dev. of 7 runs, 100 loops each)\n"
     ]
    }
   ],
   "source": [
    "%timeit bool(qs.all())"
   ]
  },
  {
   "cell_type": "raw",
   "metadata": {},
   "source": [
    "todo…"
   ]
  },
  {
   "cell_type": "markdown",
   "metadata": {},
   "source": [
    "# `Subquery`/`Sum` vs. `Count`/`distinct`"
   ]
  },
  {
   "cell_type": "markdown",
   "metadata": {},
   "source": [
    "### Some thoughts\n",
    "\n",
    "Votes are changing all the time. Therefore, I'll probably implement my own caching (in- and decrement the accumulated votes) and read only from the cache. The cache gets updated once a day or week from the database (in case something went wrong). -> Practially, there will be only db hits to write (not to read).\n",
    "\n",
    "#### With history\n",
    "1. advantages\n",
    "    1. `Sum` and `Count` queries are faster with less objects in the table\n",
    "    2. We still have the user/personal votes. Therefore, it's maybe better to keep the table small.\n",
    "2. disadvantages\n",
    "    1. We have two db hits to write with a history\n",
    "    2. Updating existing votes (possible with a history) results in 2 db hits (with `update_or_create`) in case the user didn't vote yet (which is most of the time)\n",
    "    3. 3 or 5 db hits to create 1 vote (vs. 1 hit)\n",
    "3. better update (than creating a new vote every time)\n",
    "    1. Otherwise 1. check for existing vote, 2. save new vote, 3. create historical record, 4. delete old vote, 5. create historical record\n",
    "    2. smaller table (= faster queries)\n",
    "    3. easier calculation\n",
    "    4. I could add a field to the history to record if it is a revoke\n",
    "    \n",
    "### Open questions\n",
    "\n",
    "1. How are the personal votes stats implemented -> I think I'll cache them\n",
    "2. How is the votes cache implemented -> I think similar to the current implementation"
   ]
  },
  {
   "cell_type": "code",
   "execution_count": 10,
   "metadata": {},
   "outputs": [
    {
     "data": {
      "text/plain": [
       "5"
      ]
     },
     "execution_count": 10,
     "metadata": {},
     "output_type": "execute_result"
    }
   ],
   "source": [
    "from django.db import connection, reset_queries\n",
    "reset_queries()\n",
    "p = Page.objects.update_or_create(slug='test')\n",
    "len(connection.queries)"
   ]
  },
  {
   "cell_type": "code",
   "execution_count": 11,
   "metadata": {
    "scrolled": true
   },
   "outputs": [
    {
     "data": {
      "text/plain": [
       "[{'sql': 'SELECT \"misc_page\".\"id\", \"misc_page\".\"created\", \"misc_page\".\"last_modified\", \"misc_page\".\"slug\", \"misc_page\".\"content\", \"misc_page\".\"rendered\", \"misc_page\".\"protected\" FROM \"misc_page\" WHERE \"misc_page\".\"slug\" = \\'test2\\' FOR UPDATE',\n",
       "  'time': '0.001'},\n",
       " {'sql': 'SAVEPOINT \"s140735693792128_x2\"', 'time': '0.000'},\n",
       " {'sql': 'INSERT INTO \"misc_page\" (\"created\", \"last_modified\", \"slug\", \"content\", \"rendered\", \"protected\") VALUES (\\'2018-11-15T15:32:32.410467+00:00\\'::timestamptz, \\'2018-11-15T15:32:32.410491+00:00\\'::timestamptz, \\'test2\\', \\'\\', \\'\\', \\'{}\\') RETURNING \"misc_page\".\"id\"',\n",
       "  'time': '0.000'},\n",
       " {'sql': 'INSERT INTO \"misc_historicalpage\" (\"id\", \"created\", \"last_modified\", \"slug\", \"content\", \"history_change_reason\", \"history_date\", \"history_user_id\", \"history_type\") VALUES (6, \\'2018-11-15T15:32:32.410467+00:00\\'::timestamptz, \\'2018-11-15T15:32:32.410491+00:00\\'::timestamptz, \\'test2\\', \\'\\', NULL, \\'2018-11-15T15:32:32.411113+00:00\\'::timestamptz, NULL, \\'+\\') RETURNING \"misc_historicalpage\".\"history_id\"',\n",
       "  'time': '0.000'},\n",
       " {'sql': 'RELEASE SAVEPOINT \"s140735693792128_x2\"', 'time': '0.000'}]"
      ]
     },
     "execution_count": 11,
     "metadata": {},
     "output_type": "execute_result"
    }
   ],
   "source": [
    "connection.queries"
   ]
  },
  {
   "cell_type": "code",
   "execution_count": 65,
   "metadata": {
    "scrolled": true
   },
   "outputs": [],
   "source": [
    "# Create votes\n",
    "import random\n",
    "from panta.constants import ROLES\n",
    "\n",
    "segments = TranslatedSegment.objects.values_list('id', flat=True)\n",
    "users = User.objects.values_list('id', flat=True)\n",
    "votes = []\n",
    "for i in range(1_000_000):\n",
    "    votes.append(Vote(\n",
    "        segment_id=random.choice(segments),\n",
    "        user_id=random.choice(users),\n",
    "        role=random.choice(ROLES)[0],\n",
    "        value=random.choice((-2, -1, 1, 2)),\n",
    "    ))\n",
    "result = Vote.objects.bulk_create(votes)"
   ]
  },
  {
   "cell_type": "code",
   "execution_count": 16,
   "metadata": {},
   "outputs": [],
   "source": [
    "# Get segments\n",
    "segments = TranslatedSegment.objects.all()\n",
    "segments = qs"
   ]
  },
  {
   "cell_type": "markdown",
   "metadata": {},
   "source": [
    "## `Count`"
   ]
  },
  {
   "cell_type": "code",
   "execution_count": 59,
   "metadata": {},
   "outputs": [],
   "source": [
    "qs1 = segments.annotate(\n",
    "    translator_approvals=Count(\n",
    "        'votes',\n",
    "        filter=Q(votes__role='translator', votes__value=1),\n",
    "        distinct=True,\n",
    "    ),\n",
    "    translator_disapprovals=Count(\n",
    "        'votes',\n",
    "        filter=Q(votes__role='translator', votes__value=-1),\n",
    "        distinct=True,\n",
    "    ),\n",
    "    # We wanted to use Exists for disapprovals but it turned out\n",
    "    # that they influnce each other and there is no distinct attribute\n",
    "    reviewer_approvals=Count(\n",
    "        'votes',\n",
    "        filter=Q(votes__role='reviewer', votes__value=1),\n",
    "        distinct=True,\n",
    "    ),\n",
    "    reviewer_disapprovals=Count(\n",
    "        'votes',\n",
    "        filter=Q(votes__role='reviewer', votes__value=-1),\n",
    "        distinct=True,\n",
    "    ),\n",
    "    trustee_approvals=Count(\n",
    "        'votes',\n",
    "        filter=Q(votes__role='trustee', votes__value=1),\n",
    "        distinct=True,\n",
    "    ),\n",
    "    trustee_disapprovals=Count(\n",
    "        'votes',\n",
    "        filter=Q(votes__role='trustee', votes__value=-1),\n",
    "        distinct=True,\n",
    "    ),\n",
    ")"
   ]
  },
  {
   "cell_type": "code",
   "execution_count": 66,
   "metadata": {},
   "outputs": [
    {
     "name": "stdout",
     "output_type": "stream",
     "text": [
      "75.3 ms ± 1.03 ms per loop (mean ± std. dev. of 7 runs, 10 loops each)\n"
     ]
    }
   ],
   "source": [
    "%timeit bool(qs1.all())"
   ]
  },
  {
   "cell_type": "raw",
   "metadata": {},
   "source": [
    "110,000 votes\n",
    "12.3 ms ± 161 µs per loop (mean ± std. dev. of 7 runs, 100 loops each)\n",
    "\n",
    "1,110,000 votes\n",
    "75.3 ms ± 1.03 ms per loop (mean ± std. dev. of 7 runs, 10 loops each)"
   ]
  },
  {
   "cell_type": "markdown",
   "metadata": {},
   "source": [
    "## `Subquery`"
   ]
  },
  {
   "cell_type": "code",
   "execution_count": 17,
   "metadata": {},
   "outputs": [
    {
     "data": {
      "text/plain": [
       "'SELECT \"panta_translatedsegment\".\"id\", \"panta_translatedsegment\".\"created\", \"panta_translatedsegment\".\"last_modified\", \"panta_translatedsegment\".\"position\", \"panta_translatedsegment\".\"page\", \"panta_translatedsegment\".\"tag\", \"panta_translatedsegment\".\"classes\", \"panta_translatedsegment\".\"content\", \"panta_translatedsegment\".\"reference\", \"panta_translatedsegment\".\"work_id\", \"panta_translatedsegment\".\"original_id\", \"panta_translatedsegment\".\"locked_by_id\", \"panta_translatedsegment\".\"progress\", (SELECT SUM(U0.\"value\") FILTER (WHERE U0.\"role\" = translator) AS \"sum\" FROM \"panta_vote\" U0 WHERE U0.\"segment_id\" = (\"panta_translatedsegment\".\"id\") GROUP BY U0.\"segment_id\" LIMIT 1) AS \"translators_acc\", (SELECT SUM(U0.\"value\") FILTER (WHERE U0.\"role\" = reviewer) AS \"sum\" FROM \"panta_vote\" U0 WHERE U0.\"segment_id\" = (\"panta_translatedsegment\".\"id\") GROUP BY U0.\"segment_id\" LIMIT 1) AS \"reviewers_acc\", (SELECT SUM(U0.\"value\") FILTER (WHERE U0.\"role\" = trustee) AS \"sum\" FROM \"panta_vote\" U0 WHERE U0.\"segment_id\" = (\"panta_translatedsegment\".\"id\") GROUP BY U0.\"segment_id\" LIMIT 1) AS \"trustees_acc\" FROM \"panta_translatedsegment\" WHERE (\"panta_translatedsegment\".\"work_id\" = 1 AND \"panta_translatedsegment\".\"position\" >= 1940 AND \"panta_translatedsegment\".\"position\" < 2048) ORDER BY \"panta_translatedsegment\".\"position\" ASC'"
      ]
     },
     "execution_count": 17,
     "metadata": {},
     "output_type": "execute_result"
    }
   ],
   "source": [
    "from django.db import models\n",
    "\n",
    "qs2 = segments.annotate(\n",
    "    translators_acc=Subquery(\n",
    "        Vote.objects\n",
    "        .filter(segment=OuterRef('pk'))\n",
    "        .values('segment_id')\n",
    "        .annotate(sum=Sum('value', filter=Q(role='translator')))\n",
    "        .values('sum')[:1]\n",
    "    ),\n",
    "    reviewers_acc=Subquery(\n",
    "        Vote.objects\n",
    "        .filter(segment=OuterRef('pk'))\n",
    "        .values('segment_id')\n",
    "        .annotate(sum=Sum('value', filter=Q(role='reviewer')))\n",
    "        .values('sum')[:1]\n",
    "    ),\n",
    "    trustees_acc=Subquery(\n",
    "        Vote.objects\n",
    "        .filter(segment=OuterRef('pk'))\n",
    "        .values('segment_id')\n",
    "        .annotate(sum=Sum('value', filter=Q(role='trustee')))\n",
    "        .values('sum')[:1]\n",
    "    ),\n",
    ")\n",
    "str(qs2.query)"
   ]
  },
  {
   "cell_type": "code",
   "execution_count": 67,
   "metadata": {},
   "outputs": [
    {
     "name": "stdout",
     "output_type": "stream",
     "text": [
      "41.5 ms ± 523 µs per loop (mean ± std. dev. of 7 runs, 10 loops each)\n"
     ]
    }
   ],
   "source": [
    "%timeit bool(qs2.all())"
   ]
  },
  {
   "cell_type": "raw",
   "metadata": {},
   "source": [
    "110,000 votes\n",
    "10.6 ms ± 173 µs per loop (mean ± std. dev. of 7 runs, 100 loops each)\n",
    "\n",
    "1,110,000 votes\n",
    "41.5 ms ± 523 µs per loop (mean ± std. dev. of 7 runs, 10 loops each)"
   ]
  },
  {
   "cell_type": "code",
   "execution_count": 41,
   "metadata": {},
   "outputs": [
    {
     "data": {
      "text/plain": [
       "-32"
      ]
     },
     "execution_count": 41,
     "metadata": {},
     "output_type": "execute_result"
    }
   ],
   "source": [
    "result = 0\n",
    "for v in Vote.objects.all():\n",
    "    result += v.value\n",
    "    \n",
    "result"
   ]
  }
 ],
 "metadata": {
  "kernelspec": {
   "display_name": "Django Shell-Plus",
   "language": "python",
   "name": "django_extensions"
  },
  "language_info": {
   "codemirror_mode": {
    "name": "ipython",
    "version": 3
   },
   "file_extension": ".py",
   "mimetype": "text/x-python",
   "name": "python",
   "nbconvert_exporter": "python",
   "pygments_lexer": "ipython3",
   "version": "3.6.5"
  },
  "toc": {
   "base_numbering": 1,
   "nav_menu": {},
   "number_sections": false,
   "sideBar": true,
   "skip_h1_title": false,
   "title_cell": "Table of Contents",
   "title_sidebar": "Contents",
   "toc_cell": false,
   "toc_position": {},
   "toc_section_display": true,
   "toc_window_display": false
  }
 },
 "nbformat": 4,
 "nbformat_minor": 2
}
